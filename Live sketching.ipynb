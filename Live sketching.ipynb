{
 "cells": [
  {
   "cell_type": "code",
   "execution_count": 1,
   "metadata": {},
   "outputs": [],
   "source": [
    "# import libraries\n",
    "\n",
    "import numpy as np\n",
    "import cv2"
   ]
  },
  {
   "cell_type": "code",
   "execution_count": 2,
   "metadata": {},
   "outputs": [],
   "source": [
    "# catch the images and apply image processing\n",
    "\n",
    "def sketch(image):\n",
    "    #converting_image_to_grayscale\n",
    "    img_gray=cv2.cvtColor(image,cv2.COLOR_BGR2GRAY)\n",
    "    #blurring_image_to_remove_noise\n",
    "    img_blur=cv2.GaussianBlur(img_gray,(3,3),0)\n",
    "    #extracting_edges\n",
    "    edges=cv2.Canny(img_blur,10,20)\n",
    "    #applying_threshold_inverse\n",
    "    ret,mask=cv2.threshold(edges,70,255,cv2.THRESH_BINARY_INV)\n",
    "    return mask\n"
   ]
  },
  {
   "cell_type": "code",
   "execution_count": null,
   "metadata": {},
   "outputs": [],
   "source": [
    "# using webcam capture the frames\n",
    "\n",
    "cap=cv2.VideoCapture(0)\n",
    "# constant_image_capture_from_video\n",
    "while True:\n",
    "    ret,frame=cap.read()\n",
    "    cv2.imshow('Live_Sketch',sketch(frame))\n",
    "    # Key13==ENTER_KEY\n",
    "    if cv2.waitKey(1)==13:\n",
    "        break\n",
    "# releasing_webcam\n",
    "cap.release()\n",
    "# destroying_window\n",
    "cv2.destroyAllWindows()"
   ]
  }
 ],
 "metadata": {
  "kernelspec": {
   "display_name": "Python 3",
   "language": "python",
   "name": "python3"
  },
  "language_info": {
   "codemirror_mode": {
    "name": "ipython",
    "version": 3
   },
   "file_extension": ".py",
   "mimetype": "text/x-python",
   "name": "python",
   "nbconvert_exporter": "python",
   "pygments_lexer": "ipython3",
   "version": "3.7.4"
  }
 },
 "nbformat": 4,
 "nbformat_minor": 2
}
